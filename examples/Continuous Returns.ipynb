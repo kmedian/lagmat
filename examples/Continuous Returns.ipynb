{
 "cells": [
  {
   "cell_type": "code",
   "execution_count": 1,
   "metadata": {},
   "outputs": [],
   "source": [
    "import sys\n",
    "sys.path.append('..')\n",
    "from lagmat import val_to_cont, cont_to_val, Cont\n",
    "\n",
    "import numpy as np"
   ]
  },
  {
   "cell_type": "markdown",
   "metadata": {},
   "source": [
    "Generate some random variables $x>0$.\n",
    "Assume `x` is a time series with 3 variables and 7 observations.\n",
    "The oldest observation is in the first row."
   ]
  },
  {
   "cell_type": "code",
   "execution_count": 2,
   "metadata": {},
   "outputs": [
    {
     "data": {
      "text/plain": [
       "array([[78.0877671 , 79.30726046, 85.34555657],\n",
       "       [74.90328579, 79.54796297, 81.53223818],\n",
       "       [75.653042  , 77.70831033, 77.36530076],\n",
       "       [76.49884867, 77.93786108, 85.03403969],\n",
       "       [72.65049201, 75.53753939, 77.4555681 ],\n",
       "       [70.34303524, 69.40404179, 73.71343856],\n",
       "       [73.56140499, 74.38698975, 71.91527053]])"
      ]
     },
     "execution_count": 2,
     "metadata": {},
     "output_type": "execute_result"
    }
   ],
   "source": [
    "x = np.random.normal(size=(7,3)) * 5 + 75\n",
    "x"
   ]
  },
  {
   "cell_type": "markdown",
   "metadata": {},
   "source": [
    "## To Continous Returns"
   ]
  },
  {
   "cell_type": "markdown",
   "metadata": {},
   "source": [
    "The continous return, the (exponential) growth rate, or log differences between $x_t$ and the previous observation $x_{t-1}$ is\n",
    "\n",
    "$$\n",
    "r_t\n",
    "= \\log\\left(x_t\\right) - \\log\\left(x_{t-1}\\right) \n",
    "= \\log\\left(\\frac{x_t}{x_{t-1}}\\right)\n",
    "$$\n"
   ]
  },
  {
   "cell_type": "code",
   "execution_count": 3,
   "metadata": {},
   "outputs": [
    {
     "data": {
      "text/plain": [
       "array([[        nan,         nan,         nan],\n",
       "       [-0.04163565,  0.00303047, -0.04570988],\n",
       "       [ 0.00995989, -0.02339794, -0.05246013],\n",
       "       [ 0.01111804,  0.00294965,  0.09451327],\n",
       "       [-0.05161553, -0.03128211, -0.09334719],\n",
       "       [-0.03227639, -0.08468464, -0.04951933],\n",
       "       [ 0.04473672,  0.06933595, -0.0246965 ]])"
      ]
     },
     "execution_count": 3,
     "metadata": {},
     "output_type": "execute_result"
    }
   ],
   "source": [
    "ret = val_to_cont(x)\n",
    "ret"
   ]
  },
  {
   "cell_type": "markdown",
   "metadata": {},
   "source": [
    "## Compounding\n",
    "The relation between two observations is\n",
    "\n",
    "$$\n",
    "x_t = x_{t-1} \\, e^{r_t}\n",
    "$$\n",
    "\n",
    "or for multiple time steps\n",
    "\n",
    "$$\n",
    "x_T = \\prod_{t=1}^T x_{t-1} \\, e^{r_t}\n",
    "$$\n",
    "\n",
    "The user must provide the intial values $x_0$.\n",
    "You could use the first row `x[0,:]` from the original dataset."
   ]
  },
  {
   "cell_type": "code",
   "execution_count": 4,
   "metadata": {},
   "outputs": [
    {
     "data": {
      "text/plain": [
       "array([[78.0877671 , 79.30726046, 85.34555657],\n",
       "       [74.90328579, 79.54796297, 81.53223818],\n",
       "       [75.653042  , 77.70831033, 77.36530076],\n",
       "       [76.49884867, 77.93786108, 85.03403969],\n",
       "       [72.65049201, 75.53753939, 77.4555681 ],\n",
       "       [70.34303524, 69.40404179, 73.71343856],\n",
       "       [73.56140499, 74.38698975, 71.91527053]])"
      ]
     },
     "execution_count": 4,
     "metadata": {},
     "output_type": "execute_result"
    }
   ],
   "source": [
    "cont_to_val(ret, initial=x[0,:])"
   ]
  },
  {
   "cell_type": "markdown",
   "metadata": {},
   "source": [
    "## Index to 1\n",
    "However, an initial value of 1 is often used to compare multiple time series.\n",
    "This is called \"indexed to 1\" or \"indexed to 100 percent\"."
   ]
  },
  {
   "cell_type": "code",
   "execution_count": 5,
   "metadata": {},
   "outputs": [
    {
     "data": {
      "text/plain": [
       "array([[1.        , 1.        , 1.        ],\n",
       "       [0.9592192 , 1.00303506, 0.95531908],\n",
       "       [0.96882066, 0.97983854, 0.90649477],\n",
       "       [0.97965215, 0.98273299, 0.99634993],\n",
       "       [0.93036969, 0.95246689, 0.90755244],\n",
       "       [0.90082016, 0.87512847, 0.86370564],\n",
       "       [0.94203494, 0.93795939, 0.84263638]])"
      ]
     },
     "execution_count": 5,
     "metadata": {},
     "output_type": "execute_result"
    }
   ],
   "source": [
    "cont_to_val(ret, initial=1)"
   ]
  },
  {
   "cell_type": "markdown",
   "metadata": {},
   "source": [
    "## sklearn API\n",
    "* set `ContRef(initial=value)` if the `inverse_transform` should always use certain initial values. You can temporarly overwrite the behavior with `inverse_transform(initial=othervalue)`\n",
    "* if no initial values are specified, e.g. `ContRet()`, then `ContRet().fit(X)` will store the first row of `X` as initial values `X[0,:]`. Again, you can temporarily overwrite these inital values with `inverse_transform(initial=othervalue)`\n",
    "\n",
    "transform, inverse_transform\n",
    "\n",
    "* it assumed that `X` nor `Z` have any missing values, i.e. `NaN`\n",
    "* suggest approaches: a) use \"previous tick\" interpolation before `transform`, b) impute `0.0` before `inverse_transform`\n"
   ]
  },
  {
   "cell_type": "code",
   "execution_count": 6,
   "metadata": {},
   "outputs": [
    {
     "data": {
      "text/plain": [
       "array([[        nan,         nan,         nan],\n",
       "       [-0.04163565,  0.00303047, -0.04570988],\n",
       "       [ 0.00995989, -0.02339794, -0.05246013],\n",
       "       [ 0.01111804,  0.00294965,  0.09451327],\n",
       "       [-0.05161553, -0.03128211, -0.09334719],\n",
       "       [-0.03227639, -0.08468464, -0.04951933],\n",
       "       [ 0.04473672,  0.06933595, -0.0246965 ]])"
      ]
     },
     "execution_count": 6,
     "metadata": {},
     "output_type": "execute_result"
    }
   ],
   "source": [
    "obj = Cont()\n",
    "obj.fit(x)\n",
    "z = obj.transform(x)\n",
    "z"
   ]
  },
  {
   "cell_type": "code",
   "execution_count": 7,
   "metadata": {},
   "outputs": [
    {
     "data": {
      "text/plain": [
       "array([[78.0877671 , 79.30726046, 85.34555657],\n",
       "       [74.90328579, 79.54796297, 81.53223818],\n",
       "       [75.653042  , 77.70831033, 77.36530076],\n",
       "       [76.49884867, 77.93786108, 85.03403969],\n",
       "       [72.65049201, 75.53753939, 77.4555681 ],\n",
       "       [70.34303524, 69.40404179, 73.71343856],\n",
       "       [73.56140499, 74.38698975, 71.91527053]])"
      ]
     },
     "execution_count": 7,
     "metadata": {},
     "output_type": "execute_result"
    }
   ],
   "source": [
    "obj.inverse_transform(z)"
   ]
  },
  {
   "cell_type": "code",
   "execution_count": 8,
   "metadata": {},
   "outputs": [
    {
     "data": {
      "text/plain": [
       "array([[100.        , 100.        , 100.        ],\n",
       "       [ 95.92192039, 100.30350627,  95.53190752],\n",
       "       [ 96.88206592,  97.98385404,  90.6494771 ],\n",
       "       [ 97.96521466,  98.27329885,  99.63499343],\n",
       "       [ 93.03696943,  95.24668859,  90.75524398],\n",
       "       [ 90.08201649,  87.51284736,  86.37056399],\n",
       "       [ 94.20349399,  93.79593914,  84.26363764]])"
      ]
     },
     "execution_count": 8,
     "metadata": {},
     "output_type": "execute_result"
    }
   ],
   "source": [
    "obj.inverse_transform(z, initial=100)"
   ]
  }
 ],
 "metadata": {
  "kernelspec": {
   "display_name": "Python 3",
   "language": "python",
   "name": "python3"
  },
  "language_info": {
   "codemirror_mode": {
    "name": "ipython",
    "version": 3
   },
   "file_extension": ".py",
   "mimetype": "text/x-python",
   "name": "python",
   "nbconvert_exporter": "python",
   "pygments_lexer": "ipython3",
   "version": "3.6.2"
  }
 },
 "nbformat": 4,
 "nbformat_minor": 2
}
