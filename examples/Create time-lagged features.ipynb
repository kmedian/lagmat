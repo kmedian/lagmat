{
 "cells": [
  {
   "cell_type": "code",
   "execution_count": 3,
   "metadata": {
    "ExecuteTime": {
     "end_time": "2018-09-18T08:12:38.232692Z",
     "start_time": "2018-09-18T08:12:38.223700Z"
    }
   },
   "outputs": [],
   "source": [
    "import sys\n",
    "sys.path.append('..')\n",
    "from lagmat import lagmat\n",
    "\n",
    "import numpy as np"
   ]
  },
  {
   "cell_type": "markdown",
   "metadata": {},
   "source": [
    "## Demo 1\n",
    "* The standard use case is to have an array with multiple features. One feature for each column.\n",
    "* Each example (row) across all features realtes to a certain point in time.\n",
    "* The oldest example is in the 1st row. The lastest example is in the last row.\n",
    "\n",
    "We generate a random demo dataset `A` with 7 examples/observations and 3 raw features/variables."
   ]
  },
  {
   "cell_type": "code",
   "execution_count": 11,
   "metadata": {},
   "outputs": [
    {
     "data": {
      "text/plain": [
       "array([[19.98, 18.05, 18.75],\n",
       "       [15.85, 17.58, 15.17],\n",
       "       [11.93, 11.18, 12.88],\n",
       "       [10.38, 18.03, 12.22],\n",
       "       [12.56, 12.06, 10.65],\n",
       "       [13.89, 17.64, 13.91],\n",
       "       [16.65, 16.29, 12.8 ]])"
      ]
     },
     "execution_count": 11,
     "metadata": {},
     "output_type": "execute_result"
    }
   ],
   "source": [
    "A = (np.random.rand(7,3) * 10 + 10).round(1)\n",
    "A"
   ]
  },
  {
   "cell_type": "markdown",
   "metadata": {},
   "source": [
    "The new features should be lagged by 0, 1, and 2 time steps (Each row is a new time step)"
   ]
  },
  {
   "cell_type": "code",
   "execution_count": 12,
   "metadata": {},
   "outputs": [
    {
     "data": {
      "text/plain": [
       "array([[19.98, 18.05, 18.75,   nan,   nan,   nan,   nan,   nan,   nan],\n",
       "       [15.85, 17.58, 15.17, 19.98, 18.05, 18.75,   nan,   nan,   nan],\n",
       "       [11.93, 11.18, 12.88, 15.85, 17.58, 15.17, 19.98, 18.05, 18.75],\n",
       "       [10.38, 18.03, 12.22, 11.93, 11.18, 12.88, 15.85, 17.58, 15.17],\n",
       "       [12.56, 12.06, 10.65, 10.38, 18.03, 12.22, 11.93, 11.18, 12.88],\n",
       "       [13.89, 17.64, 13.91, 12.56, 12.06, 10.65, 10.38, 18.03, 12.22],\n",
       "       [16.65, 16.29, 12.8 , 13.89, 17.64, 13.91, 12.56, 12.06, 10.65]])"
      ]
     },
     "execution_count": 12,
     "metadata": {},
     "output_type": "execute_result"
    }
   ],
   "source": [
    "B = lagmat(A, lags=[0,1,2])\n",
    "B"
   ]
  },
  {
   "cell_type": "markdown",
   "metadata": {},
   "source": [
    "## Demo 2\n",
    "Vectors are automagically adjusted to `(n,1)` matrices within `lagmatrix`."
   ]
  },
  {
   "cell_type": "code",
   "execution_count": 13,
   "metadata": {},
   "outputs": [
    {
     "data": {
      "text/plain": [
       "array([16.6, 19.8, 12. , 13.5, 17.5, 15.9, 19.1, 13.9, 14. , 16.2])"
      ]
     },
     "execution_count": 13,
     "metadata": {},
     "output_type": "execute_result"
    }
   ],
   "source": [
    "A = (np.random.rand(10) * 10 + 10).round(1)\n",
    "A"
   ]
  },
  {
   "cell_type": "code",
   "execution_count": 14,
   "metadata": {},
   "outputs": [
    {
     "data": {
      "text/plain": [
       "array([[16.6,  nan,  nan],\n",
       "       [19.8, 16.6,  nan],\n",
       "       [12. , 19.8, 16.6],\n",
       "       [13.5, 12. , 19.8],\n",
       "       [17.5, 13.5, 12. ],\n",
       "       [15.9, 17.5, 13.5],\n",
       "       [19.1, 15.9, 17.5],\n",
       "       [13.9, 19.1, 15.9],\n",
       "       [14. , 13.9, 19.1],\n",
       "       [16.2, 14. , 13.9]])"
      ]
     },
     "execution_count": 14,
     "metadata": {},
     "output_type": "execute_result"
    }
   ],
   "source": [
    "B = lagmat(A, lags=[0,1,2])\n",
    "B.round(1)"
   ]
  }
 ],
 "metadata": {
  "kernelspec": {
   "display_name": "Python 3",
   "language": "python",
   "name": "python3"
  },
  "language_info": {
   "codemirror_mode": {
    "name": "ipython",
    "version": 3
   },
   "file_extension": ".py",
   "mimetype": "text/x-python",
   "name": "python",
   "nbconvert_exporter": "python",
   "pygments_lexer": "ipython3",
   "version": "3.6.2"
  },
  "toc": {
   "base_numbering": 1,
   "nav_menu": {},
   "number_sections": true,
   "sideBar": true,
   "skip_h1_title": false,
   "title_cell": "Table of Contents",
   "title_sidebar": "Contents",
   "toc_cell": false,
   "toc_position": {},
   "toc_section_display": true,
   "toc_window_display": false
  },
  "varInspector": {
   "cols": {
    "lenName": 16,
    "lenType": 16,
    "lenVar": 40
   },
   "kernels_config": {
    "python": {
     "delete_cmd_postfix": "",
     "delete_cmd_prefix": "del ",
     "library": "var_list.py",
     "varRefreshCmd": "print(var_dic_list())"
    },
    "r": {
     "delete_cmd_postfix": ") ",
     "delete_cmd_prefix": "rm(",
     "library": "var_list.r",
     "varRefreshCmd": "cat(var_dic_list()) "
    }
   },
   "types_to_exclude": [
    "module",
    "function",
    "builtin_function_or_method",
    "instance",
    "_Feature"
   ],
   "window_display": false
  }
 },
 "nbformat": 4,
 "nbformat_minor": 2
}
