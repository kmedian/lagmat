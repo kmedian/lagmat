{
 "cells": [
  {
   "cell_type": "code",
   "execution_count": 1,
   "metadata": {},
   "outputs": [],
   "source": [
    "import sys\n",
    "sys.path.append('..')\n",
    "from lagmat import diff_len\n",
    "\n",
    "import numpy as np"
   ]
  },
  {
   "cell_type": "code",
   "execution_count": 2,
   "metadata": {},
   "outputs": [],
   "source": [
    "x = np.random.normal(size=(7,2)) * 5 + 75"
   ]
  },
  {
   "cell_type": "markdown",
   "metadata": {},
   "source": [
    "## Differences for different Subperiod Lengths\n",
    "\n",
    "The first equation is **one-step** forecast\n",
    "\n",
    "$$\n",
    "y_{t}^{(1)} = x_t - x_{t-1} \n",
    "$$\n",
    "\n",
    "The next example, is still a one-step forecast for 2 subperiods\n",
    "\n",
    "$$\n",
    "y_{t}^{(2)} = x_t - x_{t-2} \\\\\n",
    "$$\n",
    "\n",
    "Or in general, an one-step forecast over $m$ subperiods\n",
    "\n",
    "$$\n",
    "y_{t}^{(m)} = x_t - x_{t-m} \\\\\n",
    "$$"
   ]
  },
  {
   "cell_type": "code",
   "execution_count": 3,
   "metadata": {},
   "outputs": [
    {
     "name": "stdout",
     "output_type": "stream",
     "text": [
      "[[ 67.3  71.6   nan   nan   nan   nan]\n",
      " [ 73.3  78.5   nan   nan   5.9   6.9]\n",
      " [ 77.4  79.5  10.    7.9   4.1   1. ]\n",
      " [ 75.3  68.2   2.1 -10.3  -2.  -11.3]\n",
      " [ 81.6  67.1   4.2 -12.4   6.3  -1.1]\n",
      " [ 69.6  73.8  -5.8   5.6 -12.    6.7]\n",
      " [ 87.7  75.9   6.1   8.8  18.1   2.1]]\n"
     ]
    }
   ],
   "source": [
    "y = diff_len(x, lengths=[2,1])\n",
    "\n",
    "print(np.c_[x, y].round(1))"
   ]
  }
 ],
 "metadata": {
  "kernelspec": {
   "display_name": "Python 3",
   "language": "python",
   "name": "python3"
  },
  "language_info": {
   "codemirror_mode": {
    "name": "ipython",
    "version": 3
   },
   "file_extension": ".py",
   "mimetype": "text/x-python",
   "name": "python",
   "nbconvert_exporter": "python",
   "pygments_lexer": "ipython3",
   "version": "3.6.2"
  }
 },
 "nbformat": 4,
 "nbformat_minor": 2
}
