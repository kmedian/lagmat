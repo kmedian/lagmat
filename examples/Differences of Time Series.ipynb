{
 "cells": [
  {
   "cell_type": "code",
   "execution_count": 1,
   "metadata": {},
   "outputs": [],
   "source": [
    "import sys\n",
    "sys.path.append('..')\n",
    "from lagmat import diff_1st, diff_dth\n",
    "\n",
    "import numpy as np"
   ]
  },
  {
   "cell_type": "code",
   "execution_count": 2,
   "metadata": {},
   "outputs": [
    {
     "data": {
      "text/plain": [
       "array([[29],\n",
       "       [23],\n",
       "       [31],\n",
       "       [40],\n",
       "       [22],\n",
       "       [22],\n",
       "       [40]])"
      ]
     },
     "execution_count": 2,
     "metadata": {},
     "output_type": "execute_result"
    }
   ],
   "source": [
    "np.random.seed(42)\n",
    "y = (np.random.normal(size=(7,1)) * 10 + 25).astype(int)\n",
    "y"
   ]
  },
  {
   "cell_type": "markdown",
   "metadata": {},
   "source": [
    "## Order of Integration\n",
    "\n",
    "### First Difference\n",
    "For a given time-homogenous time series,\n",
    "the simple difference between an observation and the previous one $X_t - X_{t-1}$, \n",
    "is a time series integrated of order $d=1$,\n",
    "or resp. a $I(1)$ process.\n",
    "\n",
    "$$\n",
    "(1 - L) \\, X_t = X_t - X_{t-1} = \\nabla X_t\n",
    "$$"
   ]
  },
  {
   "cell_type": "code",
   "execution_count": 3,
   "metadata": {},
   "outputs": [
    {
     "name": "stderr",
     "output_type": "stream",
     "text": [
      "../lagmat/diff_dth.py:37: UserWarning: This function is for demonstration purpose only. It is equivalent to 'y = diff_dth(x, order=1)'. Please use 'diff_dth' instead.\n",
      "  \"This function is for demonstration purpose only. \"\n"
     ]
    },
    {
     "data": {
      "text/plain": [
       "array([[ nan],\n",
       "       [ -6.],\n",
       "       [  8.],\n",
       "       [  9.],\n",
       "       [-18.],\n",
       "       [  0.],\n",
       "       [ 18.]])"
      ]
     },
     "execution_count": 3,
     "metadata": {},
     "output_type": "execute_result"
    }
   ],
   "source": [
    "I1 = diff_1st(y)\n",
    "I1"
   ]
  },
  {
   "cell_type": "markdown",
   "metadata": {},
   "source": [
    "### Second Difference\n",
    "The second difference are just the differences of the first differences\n",
    "\n",
    "$$\n",
    "(1 - L) \\, (1 - L) \\, X_t = \\nabla X_t - \\nabla X_{t-1} = \\nabla (\\nabla X_t) = \\nabla^2 X_t\n",
    "$$\n",
    "\n",
    "Looks weird but is simply"
   ]
  },
  {
   "cell_type": "code",
   "execution_count": 4,
   "metadata": {},
   "outputs": [
    {
     "data": {
      "text/plain": [
       "array([[ nan],\n",
       "       [ nan],\n",
       "       [ 14.],\n",
       "       [  1.],\n",
       "       [-27.],\n",
       "       [ 18.],\n",
       "       [ 18.]])"
      ]
     },
     "execution_count": 4,
     "metadata": {},
     "output_type": "execute_result"
    }
   ],
   "source": [
    "I2 = diff_1st(diff_1st(y))\n",
    "I2"
   ]
  },
  {
   "cell_type": "markdown",
   "metadata": {},
   "source": [
    "The function `diff_1st` is for demonstration purpose only.\n",
    "Use the general implementation `diff_dth`"
   ]
  },
  {
   "cell_type": "code",
   "execution_count": 5,
   "metadata": {},
   "outputs": [
    {
     "data": {
      "text/plain": [
       "array([[ nan],\n",
       "       [ nan],\n",
       "       [ 14.],\n",
       "       [  1.],\n",
       "       [-27.],\n",
       "       [ 18.],\n",
       "       [ 18.]])"
      ]
     },
     "execution_count": 5,
     "metadata": {},
     "output_type": "execute_result"
    }
   ],
   "source": [
    "I2 = diff_dth(y, order=2)\n",
    "I2"
   ]
  },
  {
   "cell_type": "markdown",
   "metadata": {},
   "source": [
    "### Difference of order d"
   ]
  },
  {
   "cell_type": "markdown",
   "metadata": {},
   "source": [
    "The general formula for $I(d)$ processes or differences of order $d$ is\n",
    "\n",
    "$$\n",
    "(1 - L)^d \\, X_t = \\nabla^d X_t\n",
    "$$\n",
    "\n",
    "It's just recursively looping over the differences "
   ]
  },
  {
   "cell_type": "code",
   "execution_count": 6,
   "metadata": {},
   "outputs": [
    {
     "data": {
      "text/plain": [
       "array([[ 29.,  nan,  nan,  nan,  nan],\n",
       "       [ 23.,  -6.,  nan,  nan,  nan],\n",
       "       [ 31.,   8.,  14.,  nan,  nan],\n",
       "       [ 40.,   9.,   1., -13.,  nan],\n",
       "       [ 22., -18., -27., -28., -15.],\n",
       "       [ 22.,   0.,  18.,  45.,  73.],\n",
       "       [ 40.,  18.,  18.,   0., -45.]])"
      ]
     },
     "execution_count": 6,
     "metadata": {},
     "output_type": "execute_result"
    }
   ],
   "source": [
    "np.c_[\n",
    "    diff_dth(y, order=0),\n",
    "    diff_dth(y, order=1),\n",
    "    diff_dth(y, order=2),\n",
    "    diff_dth(y, order=3),\n",
    "    diff_dth(y, order=4)\n",
    "]"
   ]
  }
 ],
 "metadata": {
  "kernelspec": {
   "display_name": "Python 3",
   "language": "python",
   "name": "python3"
  },
  "language_info": {
   "codemirror_mode": {
    "name": "ipython",
    "version": 3
   },
   "file_extension": ".py",
   "mimetype": "text/x-python",
   "name": "python",
   "nbconvert_exporter": "python",
   "pygments_lexer": "ipython3",
   "version": "3.6.2"
  }
 },
 "nbformat": 4,
 "nbformat_minor": 2
}
