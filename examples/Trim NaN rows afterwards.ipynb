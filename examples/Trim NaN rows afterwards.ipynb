{
 "cells": [
  {
   "cell_type": "code",
   "execution_count": 1,
   "metadata": {},
   "outputs": [],
   "source": [
    "import sys\n",
    "sys.path.append('..')\n",
    "from lagmat import lagmat, rmnanrow, chopnan\n",
    "\n",
    "import numpy as np"
   ]
  },
  {
   "cell_type": "markdown",
   "metadata": {},
   "source": [
    "Create some random variable"
   ]
  },
  {
   "cell_type": "code",
   "execution_count": 2,
   "metadata": {},
   "outputs": [],
   "source": [
    "y = np.random.normal(size=(7,1)) * 5 + 75"
   ]
  },
  {
   "cell_type": "markdown",
   "metadata": {},
   "source": [
    "Create lagged variables"
   ]
  },
  {
   "cell_type": "code",
   "execution_count": 3,
   "metadata": {},
   "outputs": [
    {
     "data": {
      "text/plain": [
       "array([[        nan,         nan,         nan],\n",
       "       [76.42676888,         nan,         nan],\n",
       "       [71.96466941, 76.42676888,         nan],\n",
       "       [69.66094866, 71.96466941, 76.42676888],\n",
       "       [78.22200481, 69.66094866, 71.96466941],\n",
       "       [71.79094799, 78.22200481, 69.66094866],\n",
       "       [71.6029272 , 71.79094799, 78.22200481]])"
      ]
     },
     "execution_count": 3,
     "metadata": {},
     "output_type": "execute_result"
    }
   ],
   "source": [
    "x = lagmat(y, lags=[1,2,3])\n",
    "x"
   ]
  },
  {
   "cell_type": "markdown",
   "metadata": {},
   "source": [
    "## Remove rows with NaNs\n",
    "The function `rmnanrow` removes all rows with `NaN` values.\n",
    "The function will throw a warning because this trimming approach is not safe!"
   ]
  },
  {
   "cell_type": "code",
   "execution_count": 4,
   "metadata": {},
   "outputs": [
    {
     "name": "stderr",
     "output_type": "stream",
     "text": [
      "../lagmat/chopnan.py:17: UserWarning: This function 'rmnanrow' is for demonstration purpose only. You may risk to delete rows due to missing values that need to be fixed during data cleansing before feature engineering.\n",
      "  \"This function 'rmnanrow' is for demonstration purpose only. \"\n"
     ]
    },
    {
     "data": {
      "text/plain": [
       "array([[69.66094866, 71.96466941, 76.42676888],\n",
       "       [78.22200481, 69.66094866, 71.96466941],\n",
       "       [71.79094799, 78.22200481, 69.66094866],\n",
       "       [71.6029272 , 71.79094799, 78.22200481]])"
      ]
     },
     "execution_count": 4,
     "metadata": {},
     "output_type": "execute_result"
    }
   ],
   "source": [
    "rmnanrow(x)"
   ]
  },
  {
   "cell_type": "markdown",
   "metadata": {},
   "source": [
    "In case of missing values, `rmnanrow` would also delete observations between"
   ]
  },
  {
   "cell_type": "code",
   "execution_count": 5,
   "metadata": {},
   "outputs": [
    {
     "data": {
      "text/plain": [
       "array([[        nan,         nan,         nan],\n",
       "       [76.42676888,         nan,         nan],\n",
       "       [71.96466941, 76.42676888,         nan],\n",
       "       [69.66094866, 71.96466941, 76.42676888],\n",
       "       [78.22200481, 69.66094866, 71.96466941],\n",
       "       [        nan, 78.22200481, 69.66094866],\n",
       "       [71.6029272 ,         nan, 78.22200481]])"
      ]
     },
     "execution_count": 5,
     "metadata": {},
     "output_type": "execute_result"
    }
   ],
   "source": [
    "y2 = y.copy()\n",
    "y2[4,0] = np.nan\n",
    "x2 = lagmat(y2, lags=[1,2,3])\n",
    "x2"
   ]
  },
  {
   "cell_type": "code",
   "execution_count": 6,
   "metadata": {},
   "outputs": [
    {
     "data": {
      "text/plain": [
       "array([[69.66094866, 71.96466941, 76.42676888],\n",
       "       [78.22200481, 69.66094866, 71.96466941]])"
      ]
     },
     "execution_count": 6,
     "metadata": {},
     "output_type": "execute_result"
    }
   ],
   "source": [
    "rmnanrow(x2)"
   ]
  },
  {
   "cell_type": "markdown",
   "metadata": {},
   "source": [
    "## Trim according to the lags\n",
    "`chopnan` will not do anything \"automagically\".\n",
    "You need to provide the applied lags, e.g. `lags=[1,2,3]` or `nchop=max(lags)`"
   ]
  },
  {
   "cell_type": "code",
   "execution_count": 7,
   "metadata": {},
   "outputs": [
    {
     "name": "stdout",
     "output_type": "stream",
     "text": [
      "Error Message:  No lags=[1,2,..] nor nchop=? has been provided\n"
     ]
    }
   ],
   "source": [
    "try:\n",
    "    chopnan(x)\n",
    "except Exception as e:\n",
    "    print(\"Error Message: \", e)"
   ]
  },
  {
   "cell_type": "markdown",
   "metadata": {},
   "source": [
    "The lags parameter will use `nchop=max(lags)` internally."
   ]
  },
  {
   "cell_type": "code",
   "execution_count": 8,
   "metadata": {},
   "outputs": [
    {
     "data": {
      "text/plain": [
       "array([[69.66094866, 71.96466941, 76.42676888],\n",
       "       [78.22200481, 69.66094866, 71.96466941],\n",
       "       [71.79094799, 78.22200481, 69.66094866],\n",
       "       [71.6029272 , 71.79094799, 78.22200481]])"
      ]
     },
     "execution_count": 8,
     "metadata": {},
     "output_type": "execute_result"
    }
   ],
   "source": [
    "chopnan(x, lags=[1,2,3])"
   ]
  },
  {
   "cell_type": "markdown",
   "metadata": {},
   "source": [
    "You can also chop less rows, e.g."
   ]
  },
  {
   "cell_type": "code",
   "execution_count": 9,
   "metadata": {},
   "outputs": [
    {
     "data": {
      "text/plain": [
       "array([[71.96466941, 76.42676888,         nan],\n",
       "       [69.66094866, 71.96466941, 76.42676888],\n",
       "       [78.22200481, 69.66094866, 71.96466941],\n",
       "       [71.79094799, 78.22200481, 69.66094866],\n",
       "       [71.6029272 , 71.79094799, 78.22200481]])"
      ]
     },
     "execution_count": 9,
     "metadata": {},
     "output_type": "execute_result"
    }
   ],
   "source": [
    "chopnan(x, nchop=2)"
   ]
  },
  {
   "cell_type": "markdown",
   "metadata": {},
   "source": [
    "Or more rows"
   ]
  },
  {
   "cell_type": "code",
   "execution_count": 10,
   "metadata": {},
   "outputs": [
    {
     "data": {
      "text/plain": [
       "array([[78.22200481, 69.66094866, 71.96466941],\n",
       "       [71.79094799, 78.22200481, 69.66094866],\n",
       "       [71.6029272 , 71.79094799, 78.22200481]])"
      ]
     },
     "execution_count": 10,
     "metadata": {},
     "output_type": "execute_result"
    }
   ],
   "source": [
    "chopnan(x, nchop=4)"
   ]
  }
 ],
 "metadata": {
  "kernelspec": {
   "display_name": "Python 3",
   "language": "python",
   "name": "python3"
  },
  "language_info": {
   "codemirror_mode": {
    "name": "ipython",
    "version": 3
   },
   "file_extension": ".py",
   "mimetype": "text/x-python",
   "name": "python",
   "nbconvert_exporter": "python",
   "pygments_lexer": "ipython3",
   "version": "3.6.2"
  }
 },
 "nbformat": 4,
 "nbformat_minor": 2
}
