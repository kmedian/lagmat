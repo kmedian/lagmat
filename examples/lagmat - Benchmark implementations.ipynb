{
 "cells": [
  {
   "cell_type": "markdown",
   "metadata": {},
   "source": [
    "# Summary\n",
    "- there are no benefits in using numba\n",
    "- use `lagmat_2` as it supports row-oriented time series"
   ]
  },
  {
   "cell_type": "markdown",
   "metadata": {},
   "source": [
    "# Load packages"
   ]
  },
  {
   "cell_type": "code",
   "execution_count": 1,
   "metadata": {},
   "outputs": [],
   "source": [
    "import numpy as np\n",
    "import numba\n",
    "import csv"
   ]
  },
  {
   "cell_type": "markdown",
   "metadata": {},
   "source": [
    "# Load Data"
   ]
  },
  {
   "cell_type": "code",
   "execution_count": 2,
   "metadata": {},
   "outputs": [],
   "source": [
    "x1 = list(csv.reader(open('data1.csv', 'r')))\n",
    "x1 = np.array(x1, dtype=float)\n",
    "\n",
    "x2 = list(csv.reader(open('data2.csv', 'r')))\n",
    "x2 = np.array(x2, dtype=float)"
   ]
  },
  {
   "cell_type": "markdown",
   "metadata": {},
   "source": [
    "# lagmat prototypes"
   ]
  },
  {
   "cell_type": "code",
   "execution_count": 3,
   "metadata": {},
   "outputs": [],
   "source": [
    "def lagmat_1(A: np.array, lags: list, order: str = 'F') -> np.array:\n",
    "    # detect negative lags\n",
    "    if min(lags) < 0:\n",
    "        raise Exception((\n",
    "            \"Negative lags are not allowed. Only provided integers \"\n",
    "            \"greater equal 0 as list/tuple elements\"))\n",
    "\n",
    "    # correct dimensions\n",
    "    if len(A.shape) == 1:\n",
    "        A = A.reshape(-1, 1)\n",
    "\n",
    "    # number of colums and lags\n",
    "    n_rows, n_cols = A.shape\n",
    "    n_lags = len(lags)\n",
    "\n",
    "    # allocate memory\n",
    "    B = np.empty(\n",
    "        shape=(n_rows, n_cols * n_lags),\n",
    "        order=order,\n",
    "        dtype=A.dtype)\n",
    "    B[:] = np.nan\n",
    "\n",
    "    # Copy lagged columns of A into B\n",
    "    for i, l in enumerate(lags):\n",
    "        # target columns of B\n",
    "        j = i * n_cols\n",
    "        k = j + n_cols  # (i+1) * ncols\n",
    "        # number rows of A\n",
    "        nl = n_rows - l\n",
    "        # Copy\n",
    "        B[l:, j:k] = A[:nl, :]\n",
    "\n",
    "    return B"
   ]
  },
  {
   "cell_type": "code",
   "execution_count": 4,
   "metadata": {},
   "outputs": [],
   "source": [
    "def lagmat_2(A: np.array, lags: list, orient: str = 'col') -> np.array:\n",
    "    # detect negative lags\n",
    "    if min(lags) < 0:\n",
    "        raise Exception((\n",
    "            \"Negative lags are not allowed. Only provided integers \"\n",
    "            \"greater equal 0 as list/tuple elements\"))\n",
    "    \n",
    "    if orient in ('row', 'rows'):\n",
    "        if len(A.shape) == 1:\n",
    "            A = A.reshape(1, -1)\n",
    "        A = np.array(A, order='C')\n",
    "        return lagmat_rows_2(A, lags)\n",
    "    \n",
    "    elif orient in ('col', 'columns'):\n",
    "        if len(A.shape) == 1:\n",
    "            A = A.reshape(-1, 1)\n",
    "        A = np.array(A, order='F')\n",
    "        return lagmat_cols_2(A, lags)\n",
    "    else:\n",
    "        return None\n",
    "\n",
    "\n",
    "def lagmat_rows_2(A: np.array, lags: list):\n",
    "    # number of colums and lags\n",
    "    n_rows, n_cols = A.shape\n",
    "    n_lags = len(lags)\n",
    "    # allocate memory\n",
    "    B = np.empty(shape=(n_rows * n_lags, n_cols), order='C', dtype=A.dtype)\n",
    "    B[:] = np.nan\n",
    "    # Copy lagged columns of A into B\n",
    "    for i, l in enumerate(lags):\n",
    "        # target rows of B\n",
    "        j = i * n_rows\n",
    "        k = j + n_rows  # (i+1) * n_rows\n",
    "        # number cols of A\n",
    "        nc = n_cols - l\n",
    "        # Copy\n",
    "        B[j:k, l:] = A[:, :nc]\n",
    "    return B\n",
    "\n",
    "\n",
    "def lagmat_cols_2(A: np.array, lags: list):\n",
    "    # number of colums and lags\n",
    "    n_rows, n_cols = A.shape\n",
    "    n_lags = len(lags)\n",
    "    # allocate memory\n",
    "    B = np.empty(shape=(n_rows, n_cols * n_lags), order='F', dtype=A.dtype)\n",
    "    B[:] = np.nan\n",
    "    # Copy lagged columns of A into B\n",
    "    for i, l in enumerate(lags):\n",
    "        # target columns of B\n",
    "        j = i * n_cols\n",
    "        k = j + n_cols  # (i+1) * ncols\n",
    "        # number rows of A\n",
    "        nl = n_rows - l\n",
    "        # Copy\n",
    "        B[l:, j:k] = A[:nl, :]\n",
    "    return B"
   ]
  },
  {
   "cell_type": "code",
   "execution_count": 5,
   "metadata": {},
   "outputs": [],
   "source": [
    "def lagmat_3(A: np.array, lags: np.array, orient: str = 'col') -> np.array:\n",
    "    # detect negative lags\n",
    "    if np.min(lags) < 0:\n",
    "        raise Exception((\n",
    "            \"Negative lags are not allowed. Only provided integers \"\n",
    "            \"greater equal 0 as list/tuple elements\"))\n",
    "    # enforce numpy\n",
    "    #lags = np.array(lags)\n",
    "    # enforce float dtype\n",
    "    \n",
    "    if orient in ('row', 'rows', 'C'):\n",
    "        if len(A.shape) == 1:\n",
    "            A = A.reshape(1, -1)\n",
    "        #A = np.array(A, order='C')\n",
    "        return lagmat_rows_3(A, lags)\n",
    "    \n",
    "    elif orient in ('col', 'columns', 'F'):\n",
    "        if len(A.shape) == 1:\n",
    "            A = A.reshape(1, -1)\n",
    "        else:\n",
    "            A = A.T            \n",
    "        #A = np.array(A, order='C')\n",
    "        return lagmat_rows_3(A, lags).T\n",
    "    else:\n",
    "        return None\n",
    "\n",
    "\n",
    "@numba.jit(nopython=True, parallel=True)\n",
    "def lagmat_rows_3(A: np.array, lags: np.array):\n",
    "    # number of colums and lags\n",
    "    n_rows, n_cols = A.shape\n",
    "    n_lags = lags.shape[0]\n",
    "    # allocate memory\n",
    "    B = np.empty(shape=(n_rows * n_lags, n_cols), dtype=A.dtype)\n",
    "    B[:] = np.nan\n",
    "    # Copy lagged columns of A into B\n",
    "    for i, l in enumerate(lags):\n",
    "        # target rows of B\n",
    "        j = i * n_rows\n",
    "        k = j + n_rows  # (i+1) * n_rows\n",
    "        # number cols of A\n",
    "        nc = n_cols - l\n",
    "        # Copy\n",
    "        B[j:k, l:] = A[:, :nc]\n",
    "    return B\n"
   ]
  },
  {
   "cell_type": "markdown",
   "metadata": {},
   "source": [
    "# Pre-Run"
   ]
  },
  {
   "cell_type": "code",
   "execution_count": 6,
   "metadata": {},
   "outputs": [
    {
     "name": "stdout",
     "output_type": "stream",
     "text": [
      "column-oriented time series:\n",
      "CPU times: user 374 ms, sys: 249 ms, total: 622 ms\n",
      "Wall time: 627 ms\n",
      "CPU times: user 1.39 s, sys: 327 ms, total: 1.71 s\n",
      "Wall time: 1.96 s\n",
      "CPU times: user 369 ms, sys: 315 ms, total: 684 ms\n",
      "Wall time: 684 ms\n",
      "CPU times: user 1.8 s, sys: 358 ms, total: 2.15 s\n",
      "Wall time: 1.96 s\n",
      "row-oriented time series:\n",
      "CPU times: user 378 ms, sys: 324 ms, total: 701 ms\n",
      "Wall time: 705 ms\n",
      "CPU times: user 555 ms, sys: 320 ms, total: 875 ms\n",
      "Wall time: 653 ms\n"
     ]
    }
   ],
   "source": [
    "lags = range(100)\n",
    "lags2 = np.array(lags)\n",
    "x1T = x1.T\n",
    "\n",
    "print(\"column-oriented time series:\")\n",
    "%time _ = lagmat_1(x1, lags, order='F')\n",
    "%time _ = lagmat_1(x1, lags, order='C')\n",
    "%time _ = lagmat_2(x1, lags, orient='col')\n",
    "%time _ = lagmat_3(x1, lags2, orient='col')\n",
    "\n",
    "print(\"row-oriented time series:\")\n",
    "%time _ = lagmat_2(x1T, lags, orient='row')\n",
    "%time _ = lagmat_3(x1T, lags2, orient='row')"
   ]
  },
  {
   "cell_type": "markdown",
   "metadata": {},
   "source": [
    "# Speed Test"
   ]
  },
  {
   "cell_type": "code",
   "execution_count": 7,
   "metadata": {},
   "outputs": [
    {
     "name": "stdout",
     "output_type": "stream",
     "text": [
      "column-oriented time series:\n",
      "613 ms ± 6.88 ms per loop (mean ± std. dev. of 7 runs, 1 loop each)\n",
      "1.69 s ± 210 ms per loop (mean ± std. dev. of 7 runs, 1 loop each)\n",
      "612 ms ± 14 ms per loop (mean ± std. dev. of 7 runs, 1 loop each)\n",
      "601 ms ± 19.5 ms per loop (mean ± std. dev. of 7 runs, 1 loop each)\n",
      "\n",
      "row-oriented time series:\n",
      "695 ms ± 68.8 ms per loop (mean ± std. dev. of 7 runs, 1 loop each)\n",
      "602 ms ± 42.8 ms per loop (mean ± std. dev. of 7 runs, 1 loop each)\n"
     ]
    }
   ],
   "source": [
    "lags = range(100)\n",
    "lags2 = np.array(lags)\n",
    "x1T = x1.T\n",
    "\n",
    "print(\"column-oriented time series:\")\n",
    "%timeit _ = lagmat_1(x1, lags, order='F')\n",
    "%timeit _ = lagmat_1(x1, lags, order='C')\n",
    "%timeit _ = lagmat_2(x1, lags, orient='col')\n",
    "%timeit _ = lagmat_3(x1, lags2, orient='col')\n",
    "\n",
    "print(\"\\nrow-oriented time series:\")\n",
    "%timeit _ = lagmat_2(x1T, lags, orient='row')\n",
    "%timeit _ = lagmat_3(x1T, lags2, orient='row')"
   ]
  },
  {
   "cell_type": "code",
   "execution_count": 8,
   "metadata": {},
   "outputs": [
    {
     "name": "stdout",
     "output_type": "stream",
     "text": [
      "column-oriented time series:\n",
      "592 ms ± 5.56 ms per loop (mean ± std. dev. of 7 runs, 1 loop each)\n",
      "548 ms ± 27.9 ms per loop (mean ± std. dev. of 7 runs, 1 loop each)\n",
      "576 ms ± 5.05 ms per loop (mean ± std. dev. of 7 runs, 1 loop each)\n",
      "546 ms ± 4.09 ms per loop (mean ± std. dev. of 7 runs, 1 loop each)\n",
      "\n",
      "row-oriented time series:\n",
      "573 ms ± 3.47 ms per loop (mean ± std. dev. of 7 runs, 1 loop each)\n",
      "567 ms ± 47.3 ms per loop (mean ± std. dev. of 7 runs, 1 loop each)\n"
     ]
    }
   ],
   "source": [
    "lags = range(100)\n",
    "lags2 = np.array(lags)\n",
    "x2T = x2.T\n",
    "\n",
    "print(\"column-oriented time series:\")\n",
    "%timeit _ = lagmat_1(x2, lags, order='F')\n",
    "%timeit _ = lagmat_1(x2, lags, order='C')\n",
    "%timeit _ = lagmat_2(x2, lags, orient='col')\n",
    "%timeit _ = lagmat_3(x2, lags2, orient='col')\n",
    "\n",
    "print(\"\\nrow-oriented time series:\")\n",
    "%timeit _ = lagmat_2(x2T, lags, orient='row')\n",
    "%timeit _ = lagmat_3(x2T, lags2, orient='row')"
   ]
  },
  {
   "cell_type": "code",
   "execution_count": null,
   "metadata": {},
   "outputs": [],
   "source": []
  }
 ],
 "metadata": {
  "kernelspec": {
   "display_name": "Python 3",
   "language": "python",
   "name": "python3"
  },
  "language_info": {
   "codemirror_mode": {
    "name": "ipython",
    "version": 3
   },
   "file_extension": ".py",
   "mimetype": "text/x-python",
   "name": "python",
   "nbconvert_exporter": "python",
   "pygments_lexer": "ipython3",
   "version": "3.6.3"
  }
 },
 "nbformat": 4,
 "nbformat_minor": 4
}
