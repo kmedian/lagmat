{
 "cells": [
  {
   "cell_type": "markdown",
   "metadata": {},
   "source": [
    "# Load packages"
   ]
  },
  {
   "cell_type": "code",
   "execution_count": 1,
   "metadata": {},
   "outputs": [],
   "source": [
    "import sys\n",
    "sys.path.append('..')\n",
    "from lagmat import lagmat\n",
    "import csv\n",
    "import numpy as np"
   ]
  },
  {
   "cell_type": "markdown",
   "metadata": {},
   "source": [
    "# Load Data"
   ]
  },
  {
   "cell_type": "code",
   "execution_count": 2,
   "metadata": {},
   "outputs": [],
   "source": [
    "x1 = list(csv.reader(open('data1.csv', 'r')))\n",
    "x1 = np.array(x1, dtype=float)"
   ]
  },
  {
   "cell_type": "code",
   "execution_count": 3,
   "metadata": {},
   "outputs": [],
   "source": [
    "x2 = list(csv.reader(open('data2.csv', 'r')))\n",
    "x2 = np.array(x2, dtype=float)"
   ]
  },
  {
   "cell_type": "markdown",
   "metadata": {},
   "source": [
    "# Execution Time by Function Calls (prun)"
   ]
  },
  {
   "cell_type": "code",
   "execution_count": 4,
   "metadata": {},
   "outputs": [
    {
     "name": "stdout",
     "output_type": "stream",
     "text": [
      " "
     ]
    },
    {
     "data": {
      "text/plain": [
       "         17 function calls in 2.078 seconds"
      ]
     },
     "metadata": {},
     "output_type": "display_data"
    }
   ],
   "source": [
    "%prun -l lagmat_func.py y = lagmat(x1, list(range(100)))"
   ]
  },
  {
   "cell_type": "code",
   "execution_count": 5,
   "metadata": {},
   "outputs": [
    {
     "name": "stdout",
     "output_type": "stream",
     "text": [
      " "
     ]
    },
    {
     "data": {
      "text/plain": [
       "         17 function calls in 1.992 seconds"
      ]
     },
     "metadata": {},
     "output_type": "display_data"
    }
   ],
   "source": [
    "%prun -l lagmat_func.py y = lagmat(x2, list(range(100)))"
   ]
  },
  {
   "cell_type": "markdown",
   "metadata": {},
   "source": [
    "# Memory Profile (mprun)"
   ]
  },
  {
   "cell_type": "code",
   "execution_count": 6,
   "metadata": {},
   "outputs": [],
   "source": [
    "%load_ext memory_profiler"
   ]
  },
  {
   "cell_type": "code",
   "execution_count": 7,
   "metadata": {},
   "outputs": [
    {
     "name": "stdout",
     "output_type": "stream",
     "text": [
      "peak memory: 1605.60 MiB, increment: 763.91 MiB\n"
     ]
    }
   ],
   "source": [
    "%memit lagmat(x1, list(range(100)))"
   ]
  },
  {
   "cell_type": "code",
   "execution_count": 8,
   "metadata": {},
   "outputs": [
    {
     "name": "stdout",
     "output_type": "stream",
     "text": [
      "\n"
     ]
    },
    {
     "data": {
      "text/plain": [
       "Filename: ../lagmat/lagmat.py\n",
       "\n",
       "Line #    Mem usage    Increment   Line Contents\n",
       "================================================\n",
       "     4    842.9 MiB    842.9 MiB   def lagmat(A: np.array, lags: list, orient: str = 'col') -> np.array:\n",
       "     5                                 \"\"\"Create array with time-lagged copies of the features/variables\n",
       "     6                             \n",
       "     7                                 Parameters\n",
       "     8                                 ----------\n",
       "     9                                 A : np.ndarray\n",
       "    10                                     Dataset. One column for each features/variables, and one\n",
       "    11                                     row for each example/observation at a certain time step.\n",
       "    12                             \n",
       "    13                                 lags : list, tuple\n",
       "    14                                     Definition what time lags the copies of A should have.\n",
       "    15                             \n",
       "    16                                 order : str\n",
       "    17                                     (Optional) Default 'F'\n",
       "    18                             \n",
       "    19                                 Assumptions\n",
       "    20                                 -----------\n",
       "    21                                 * It's a time-homogenous time series (that's why there is\n",
       "    22                                     no time index)\n",
       "    23                                 * Features/Variables are ordered from the oldest example/observation\n",
       "    24                                     (1st row) to the latest example (last row)\n",
       "    25                                 * Any Missing Value treatment have been done previously.\n",
       "    26                             \n",
       "    27                                 \"\"\"\n",
       "    28                                 # detect negative lags\n",
       "    29    842.9 MiB      0.0 MiB       if min(lags) < 0:\n",
       "    30                                     raise Exception((\n",
       "    31                                         \"Negative lags are not allowed. Only provided integers \"\n",
       "    32                                         \"greater equal 0 as list/tuple elements\"))\n",
       "    33                                 # None result for missing lags\n",
       "    34    842.9 MiB      0.0 MiB       if len(lags) == 0:\n",
       "    35                                     return None\n",
       "    36                                 # enforce floating subtype\n",
       "    37    842.9 MiB      0.0 MiB       if not np.issubdtype(A.dtype, np.floating):\n",
       "    38                                     A = np.array(A, np.float32)\n",
       "    39                                 \n",
       "    40    842.9 MiB      0.0 MiB       if orient in ('row', 'rows'):\n",
       "    41                                     # row-oriented time series\n",
       "    42                                     if len(A.shape) == 1:\n",
       "    43                                         A = A.reshape(1, -1)\n",
       "    44                                     A = np.array(A, order='C')\n",
       "    45                                     return lagmat_rows(A, lags)\n",
       "    46                                 \n",
       "    47    842.9 MiB      0.0 MiB       elif orient in ('col', 'cols', 'columns'):\n",
       "    48                                     # column-oriented time series\n",
       "    49    842.9 MiB      0.0 MiB           if len(A.shape) == 1:\n",
       "    50                                         A = A.reshape(-1, 1)\n",
       "    51    842.9 MiB      0.0 MiB           A = np.array(A, order='F')\n",
       "    52   1605.9 MiB    762.9 MiB           return lagmat_cols(A, lags)\n",
       "    53                                 else:\n",
       "    54                                     return None"
      ]
     },
     "metadata": {},
     "output_type": "display_data"
    }
   ],
   "source": [
    "%mprun -f lagmat lagmat(x1, list(range(100)))"
   ]
  }
 ],
 "metadata": {
  "kernelspec": {
   "display_name": "Python 3",
   "language": "python",
   "name": "python3"
  },
  "language_info": {
   "codemirror_mode": {
    "name": "ipython",
    "version": 3
   },
   "file_extension": ".py",
   "mimetype": "text/x-python",
   "name": "python",
   "nbconvert_exporter": "python",
   "pygments_lexer": "ipython3",
   "version": "3.6.3"
  }
 },
 "nbformat": 4,
 "nbformat_minor": 4
}
