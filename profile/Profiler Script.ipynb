{
 "cells": [
  {
   "cell_type": "markdown",
   "metadata": {},
   "source": [
    "# Load packages"
   ]
  },
  {
   "cell_type": "code",
   "execution_count": 1,
   "metadata": {},
   "outputs": [],
   "source": [
    "import sys\n",
    "sys.path.append('..')\n",
    "from lagmat import lagmat\n",
    "import csv\n",
    "import numpy as np"
   ]
  },
  {
   "cell_type": "markdown",
   "metadata": {},
   "source": [
    "# Load Data"
   ]
  },
  {
   "cell_type": "code",
   "execution_count": 2,
   "metadata": {},
   "outputs": [],
   "source": [
    "x1 = list(csv.reader(open('data1.csv', 'r')))\n",
    "x1 = np.array(x1, dtype=float)"
   ]
  },
  {
   "cell_type": "code",
   "execution_count": 3,
   "metadata": {},
   "outputs": [],
   "source": [
    "x2 = list(csv.reader(open('data2.csv', 'r')))\n",
    "x2 = np.array(x2, dtype=float)"
   ]
  },
  {
   "cell_type": "markdown",
   "metadata": {},
   "source": [
    "# Execution Time by Function Calls (prun)"
   ]
  },
  {
   "cell_type": "code",
   "execution_count": 4,
   "metadata": {},
   "outputs": [
    {
     "name": "stdout",
     "output_type": "stream",
     "text": [
      " "
     ]
    },
    {
     "data": {
      "text/plain": [
       "         8 function calls in 0.602 seconds\n",
       "\n",
       "   Ordered by: internal time\n",
       "   List reduced from 7 to 1 due to restriction <'lagmat_func.py'>\n",
       "\n",
       "   ncalls  tottime  percall  cumtime  percall filename:lineno(function)\n",
       "        1    0.602    0.602    0.602    0.602 lagmat_func.py:4(lagmat)"
      ]
     },
     "metadata": {},
     "output_type": "display_data"
    }
   ],
   "source": [
    "%prun -l lagmat_func.py y = lagmat(x1, list(range(100)))"
   ]
  },
  {
   "cell_type": "code",
   "execution_count": 5,
   "metadata": {},
   "outputs": [
    {
     "name": "stdout",
     "output_type": "stream",
     "text": [
      " "
     ]
    },
    {
     "data": {
      "text/plain": [
       "         8 function calls in 0.664 seconds\n",
       "\n",
       "   Ordered by: internal time\n",
       "   List reduced from 7 to 1 due to restriction <'lagmat_func.py'>\n",
       "\n",
       "   ncalls  tottime  percall  cumtime  percall filename:lineno(function)\n",
       "        1    0.614    0.614    0.614    0.614 lagmat_func.py:4(lagmat)"
      ]
     },
     "metadata": {},
     "output_type": "display_data"
    }
   ],
   "source": [
    "%prun -l lagmat_func.py y = lagmat(x2, list(range(100)))"
   ]
  },
  {
   "cell_type": "markdown",
   "metadata": {},
   "source": [
    "# Memory Profile (mprun)"
   ]
  },
  {
   "cell_type": "code",
   "execution_count": 6,
   "metadata": {},
   "outputs": [],
   "source": [
    "%load_ext memory_profiler"
   ]
  },
  {
   "cell_type": "code",
   "execution_count": 7,
   "metadata": {},
   "outputs": [
    {
     "name": "stdout",
     "output_type": "stream",
     "text": [
      "peak memory: 1607.51 MiB, increment: 762.93 MiB\n"
     ]
    }
   ],
   "source": [
    "%memit lagmat(x1, list(range(100)))"
   ]
  },
  {
   "cell_type": "code",
   "execution_count": 8,
   "metadata": {},
   "outputs": [
    {
     "name": "stdout",
     "output_type": "stream",
     "text": [
      "\n"
     ]
    },
    {
     "data": {
      "text/plain": [
       "Filename: ../lagmat/lagmat_func.py\n",
       "\n",
       "Line #    Mem usage    Increment   Line Contents\n",
       "================================================\n",
       "     4    844.7 MiB    844.7 MiB   def lagmat(A, lags=[], order='F'):\n",
       "     5                                 \"\"\"Create array with time-lagged copies of the features/variables\n",
       "     6                             \n",
       "     7                                 Parameters\n",
       "     8                                 ----------\n",
       "     9                                 A : np.ndarray\n",
       "    10                                     Dataset. One column for each features/variables, and one\n",
       "    11                                     row for each example/observation at a certain time step.\n",
       "    12                             \n",
       "    13                                 lags : list, tuple\n",
       "    14                                     Definition what time lags the copies of A should have.\n",
       "    15                             \n",
       "    16                                 order : str\n",
       "    17                                     (Optional) Default 'F'\n",
       "    18                             \n",
       "    19                                 Assumptions\n",
       "    20                                 -----------\n",
       "    21                                 * It's a time-homogenous time series (that's why there is\n",
       "    22                                     no time index)\n",
       "    23                                 * Features/Variables are ordered from the oldest example/observation\n",
       "    24                                     (1st row) to the latest example (last row)\n",
       "    25                                 * Any Missing Value treatment have been done previously.\n",
       "    26                             \n",
       "    27                                 \"\"\"\n",
       "    28    844.7 MiB      0.0 MiB       if lags:\n",
       "    29                                     # detect negative lags\n",
       "    30    844.7 MiB      0.0 MiB           if min(lags) < 0:\n",
       "    31                                         raise Exception((\n",
       "    32                                             \"Negative lags are not allowed. Only provided integers \"\n",
       "    33                                             \"greater equal 0 as list/tuple elements\"))\n",
       "    34                             \n",
       "    35                                     # correct dimensions\n",
       "    36    844.7 MiB      0.0 MiB           if len(A.shape) is 1:\n",
       "    37                                         A = A.reshape(-1, 1)\n",
       "    38                             \n",
       "    39                                     # number of colums and lags\n",
       "    40    844.7 MiB      0.0 MiB           n_rows, n_cols = A.shape\n",
       "    41    844.7 MiB      0.0 MiB           n_lags = len(lags)\n",
       "    42                             \n",
       "    43                                     # allocate memory\n",
       "    44    844.7 MiB      0.0 MiB           B = np.empty(\n",
       "    45    844.7 MiB      0.0 MiB               shape=(n_rows, n_cols * n_lags),\n",
       "    46    844.7 MiB      0.0 MiB               order=order,\n",
       "    47    844.7 MiB      0.0 MiB               dtype=float)\n",
       "    48   1607.6 MiB    762.9 MiB           B[:] = np.nan\n",
       "    49                             \n",
       "    50                                     # Copy lagged columns of A into B\n",
       "    51   1607.6 MiB      0.0 MiB           for i, l in enumerate(lags):\n",
       "    52                                         # target columns of B\n",
       "    53   1607.6 MiB      0.0 MiB               j = i * n_cols\n",
       "    54   1607.6 MiB      0.0 MiB               k = j + n_cols  # (i+1) * ncols\n",
       "    55                                         # number rows of A\n",
       "    56   1607.6 MiB      0.0 MiB               nl = n_rows - l\n",
       "    57                                         # Copy\n",
       "    58   1607.6 MiB      0.0 MiB               B[l:, j:k] = A[:nl, :]\n",
       "    59                             \n",
       "    60   1607.6 MiB      0.0 MiB           return B\n",
       "    61                                 else:\n",
       "    62                                     return None"
      ]
     },
     "metadata": {},
     "output_type": "display_data"
    }
   ],
   "source": [
    "%mprun -f lagmat lagmat(x1, list(range(100)))"
   ]
  }
 ],
 "metadata": {
  "kernelspec": {
   "display_name": "Python 3",
   "language": "python",
   "name": "python3"
  },
  "language_info": {
   "codemirror_mode": {
    "name": "ipython",
    "version": 3
   },
   "file_extension": ".py",
   "mimetype": "text/x-python",
   "name": "python",
   "nbconvert_exporter": "python",
   "pygments_lexer": "ipython3",
   "version": "3.7.5"
  }
 },
 "nbformat": 4,
 "nbformat_minor": 4
}
