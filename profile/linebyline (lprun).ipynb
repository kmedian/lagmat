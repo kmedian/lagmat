{
 "cells": [
  {
   "cell_type": "markdown",
   "metadata": {},
   "source": [
    "# Line by Line Execution Time\n",
    "* Initially assigning NaN consumes the most time"
   ]
  },
  {
   "cell_type": "code",
   "execution_count": 1,
   "metadata": {},
   "outputs": [],
   "source": [
    "import sys\n",
    "sys.path.append('..')\n",
    "from lagmat import lagmat\n",
    "import pandas as pd\n",
    "%load_ext line_profiler"
   ]
  },
  {
   "cell_type": "code",
   "execution_count": 4,
   "metadata": {},
   "outputs": [
    {
     "data": {
      "text/plain": [
       "Timer unit: 1e-06 s\n",
       "\n",
       "Total time: 0.63936 s\n",
       "File: ../lagmat/lagmat_func.py\n",
       "Function: lagmat at line 4\n",
       "\n",
       "Line #      Hits         Time  Per Hit   % Time  Line Contents\n",
       "==============================================================\n",
       "     4                                           def lagmat(A, lags=[], order='F'):\n",
       "     5                                               \"\"\"Create array with time-lagged copies of the features/variables\n",
       "     6                                           \n",
       "     7                                               Parameters\n",
       "     8                                               ----------\n",
       "     9                                               A : np.ndarray\n",
       "    10                                                   Dataset. One column for each features/variables, and one \n",
       "    11                                                   row for each example/observation at a certain time step.\n",
       "    12                                               \n",
       "    13                                               lags : list, tuple\n",
       "    14                                                   Definition what time lags the copies of A should have.\n",
       "    15                                               \n",
       "    16                                               order : str\n",
       "    17                                                   (Optional) Default 'F'\n",
       "    18                                           \n",
       "    19                                               Assumptions\n",
       "    20                                               -----------\n",
       "    21                                               * It's a time-homogenous time series (that's why there is \n",
       "    22                                                   no time index)\n",
       "    23                                               * Features/Variables are ordered from the oldest example/observation\n",
       "    24                                                   (1st row) to the latest example (last row)\n",
       "    25                                               * Any Missing Value treatment have been done previously.\n",
       "    26                                           \n",
       "    27                                               \"\"\"\n",
       "    28         1          2.0      2.0      0.0      if lags:\n",
       "    29                                                   # correct dimensions\n",
       "    30         1          3.0      3.0      0.0          if len(A.shape) is 1:\n",
       "    31                                                       A = A.reshape(-1,1)\n",
       "    32                                           \n",
       "    33                                                   # number of colums and lags\n",
       "    34         1          1.0      1.0      0.0          n_rows, n_cols = A.shape\n",
       "    35         1          1.0      1.0      0.0          n_lags = len(lags)\n",
       "    36                                           \n",
       "    37                                                   # allocate memory\n",
       "    38         1         19.0     19.0      0.0          B = np.empty(shape=(n_rows, n_cols * n_lags), order=order)\n",
       "    39         1     557069.0 557069.0     87.1          B[:] = np.nan\n",
       "    40                                           \n",
       "    41                                                   # Copy lagged columns of A into B\n",
       "    42       101        175.0      1.7      0.0          for i, l in enumerate(lags):\n",
       "    43                                                       # target columns of B\n",
       "    44       100        108.0      1.1      0.0              j = i * n_cols\n",
       "    45       100         86.0      0.9      0.0              k = j + n_cols  # (i+1) * ncols\n",
       "    46                                                       # number rows of A\n",
       "    47       100         83.0      0.8      0.0              nl = n_rows - l\n",
       "    48                                                       # Copy\n",
       "    49       100      81812.0    818.1     12.8              B[l:, j:k] = A[:nl, :]\n",
       "    50                                           \n",
       "    51         1          1.0      1.0      0.0          return B\n",
       "    52                                               else:\n",
       "    53                                                   return None"
      ]
     },
     "metadata": {},
     "output_type": "display_data"
    }
   ],
   "source": [
    "x = pd.read_csv('data2.csv').values\n",
    "%lprun -f lagmat lagmat(x, list(range(100)))"
   ]
  },
  {
   "cell_type": "code",
   "execution_count": null,
   "metadata": {},
   "outputs": [],
   "source": []
  }
 ],
 "metadata": {
  "kernelspec": {
   "display_name": "Python 3",
   "language": "python",
   "name": "python3"
  },
  "language_info": {
   "codemirror_mode": {
    "name": "ipython",
    "version": 3
   },
   "file_extension": ".py",
   "mimetype": "text/x-python",
   "name": "python",
   "nbconvert_exporter": "python",
   "pygments_lexer": "ipython3",
   "version": "3.6.2"
  }
 },
 "nbformat": 4,
 "nbformat_minor": 2
}
