{
 "cells": [
  {
   "cell_type": "markdown",
   "metadata": {},
   "source": [
    "# Memory Profile\n",
    "* Yep allocating memory with NaNs "
   ]
  },
  {
   "cell_type": "code",
   "execution_count": 1,
   "metadata": {},
   "outputs": [],
   "source": [
    "import sys\n",
    "sys.path.append('..')\n",
    "from lagmat import lagmat\n",
    "import pandas as pd\n",
    "import numpy as np\n",
    "%load_ext memory_profiler"
   ]
  },
  {
   "cell_type": "code",
   "execution_count": 2,
   "metadata": {},
   "outputs": [
    {
     "name": "stdout",
     "output_type": "stream",
     "text": [
      "peak memory: 869.85 MiB, increment: 762.98 MiB\n",
      "\n"
     ]
    },
    {
     "data": {
      "text/plain": [
       "Filename: ../lagmat/lagmat_func.py\n",
       "\n",
       "Line #    Mem usage    Increment   Line Contents\n",
       "================================================\n",
       "     4    107.2 MiB    107.2 MiB   def lagmat(A, lags=[], order='F'):\n",
       "     5                                 \"\"\"Create array with time-lagged copies of the features/variables\n",
       "     6                             \n",
       "     7                                 Parameters\n",
       "     8                                 ----------\n",
       "     9                                 A : np.ndarray\n",
       "    10                                     Dataset. One column for each features/variables, and one \n",
       "    11                                     row for each example/observation at a certain time step.\n",
       "    12                                 \n",
       "    13                                 lags : list, tuple\n",
       "    14                                     Definition what time lags the copies of A should have.\n",
       "    15                                 \n",
       "    16                                 order : str\n",
       "    17                                     (Optional) Default 'F'\n",
       "    18                             \n",
       "    19                                 Assumptions\n",
       "    20                                 -----------\n",
       "    21                                 * It's a time-homogenous time series (that's why there is \n",
       "    22                                     no time index)\n",
       "    23                                 * Features/Variables are ordered from the oldest example/observation\n",
       "    24                                     (1st row) to the latest example (last row)\n",
       "    25                                 * Any Missing Value treatment have been done previously.\n",
       "    26                             \n",
       "    27                                 \"\"\"\n",
       "    28    107.2 MiB      0.0 MiB       if lags:\n",
       "    29                                     # correct dimensions\n",
       "    30    107.2 MiB      0.0 MiB           if len(A.shape) is 1:\n",
       "    31                                         A = A.reshape(-1,1)\n",
       "    32                             \n",
       "    33                                     # number of colums and lags\n",
       "    34    107.2 MiB      0.0 MiB           n_rows, n_cols = A.shape\n",
       "    35    107.2 MiB      0.0 MiB           n_lags = len(lags)\n",
       "    36                             \n",
       "    37                                     # allocate memory\n",
       "    38    107.2 MiB      0.0 MiB           B = np.empty(\n",
       "    39    107.2 MiB      0.0 MiB               shape = (n_rows, n_cols * n_lags),\n",
       "    40    107.2 MiB      0.0 MiB               order = order,\n",
       "    41    107.2 MiB      0.0 MiB               dtype = A.dtype)\n",
       "    42    870.1 MiB    762.9 MiB           B[:] = np.nan\n",
       "    43                             \n",
       "    44                                     # Copy lagged columns of A into B\n",
       "    45    870.1 MiB      0.0 MiB           for i, l in enumerate(lags):\n",
       "    46                                         # target columns of B\n",
       "    47    870.1 MiB      0.0 MiB               j = i * n_cols\n",
       "    48    870.1 MiB      0.0 MiB               k = j + n_cols  # (i+1) * ncols\n",
       "    49                                         # number rows of A\n",
       "    50    870.1 MiB      0.0 MiB               nl = n_rows - l\n",
       "    51                                         # Copy\n",
       "    52    870.1 MiB      0.0 MiB               B[l:, j:k] = A[:nl, :]\n",
       "    53                             \n",
       "    54    870.1 MiB      0.0 MiB           return B\n",
       "    55                                 else:\n",
       "    56                                     return None"
      ]
     },
     "metadata": {},
     "output_type": "display_data"
    }
   ],
   "source": [
    "x = pd.read_csv('data1.csv').values\n",
    "%memit lagmat(x, list(range(100)))\n",
    "%mprun -f lagmat lagmat(x, list(range(100)))"
   ]
  }
 ],
 "metadata": {
  "kernelspec": {
   "display_name": "Python 3",
   "language": "python",
   "name": "python3"
  },
  "language_info": {
   "codemirror_mode": {
    "name": "ipython",
    "version": 3
   },
   "file_extension": ".py",
   "mimetype": "text/x-python",
   "name": "python",
   "nbconvert_exporter": "python",
   "pygments_lexer": "ipython3",
   "version": "3.6.2"
  }
 },
 "nbformat": 4,
 "nbformat_minor": 2
}
